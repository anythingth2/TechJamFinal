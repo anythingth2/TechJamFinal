{
 "cells": [
  {
   "cell_type": "code",
   "execution_count": 1,
   "metadata": {},
   "outputs": [],
   "source": [
    "import os\n",
    "os.environ[\"CUDA_DEVICE_ORDER\"]=\"PCI_BUS_ID\"\n",
    "os.environ[\"CUDA_VISIBLE_DEVICES\"]=\"1,2\""
   ]
  },
  {
   "cell_type": "code",
   "execution_count": 1,
   "metadata": {},
   "outputs": [
    {
     "name": "stderr",
     "output_type": "stream",
     "text": [
      "Using TensorFlow backend.\n"
     ]
    }
   ],
   "source": [
    "import pandas as pd\n",
    "import numpy as np\n",
    "from sklearn.preprocessing import StandardScaler\n",
    "from keras.utils import to_categorical\n",
    "from keras.models import Model, Sequential\n",
    "from keras.layers import CuDNNLSTM, Dense, Input, Dropout, Activation\n",
    "from keras.optimizers import Adam\n",
    "from keras.utils import multi_gpu_model\n",
    "from tqdm import tqdm"
   ]
  },
  {
   "cell_type": "code",
   "execution_count": 84,
   "metadata": {},
   "outputs": [],
   "source": [
    "demo = pd.read_csv('dataset/demo.csv')\n",
    "demo.rename({\n",
    "    'c0':'gender',\n",
    "    'c1':'ocp'}, axis=1, inplace=True)\n",
    "\n",
    "txn = pd.read_csv('dataset/txn.csv')\n",
    "_txn = txn.copy()\n",
    "txn.rename({\n",
    "    'n3':'date_idx'\n",
    "}, axis=1, inplace=True)\n",
    "txn.drop('t0', axis=1, inplace=True)\n",
    "\n",
    "train_set = pd.read_csv('dataset/train.csv')\n",
    "test_set = pd.read_csv('dataset/test.csv')"
   ]
  },
  {
   "cell_type": "code",
   "execution_count": 3,
   "metadata": {},
   "outputs": [],
   "source": [
    "id_ccno = txn[['id', 'old_cc_no']].drop_duplicates()\n",
    "train_id_ccno = pd.merge(id_ccno, train_set, on='id')"
   ]
  },
  {
   "cell_type": "code",
   "execution_count": 4,
   "metadata": {},
   "outputs": [],
   "source": [
    "txn_n = txn[['id', 'old_cc_no', 'date_idx', 'n4', 'n5', 'n6', 'n7']].copy()\n",
    "txn_n['count'] = 1"
   ]
  },
  {
   "cell_type": "code",
   "execution_count": 5,
   "metadata": {},
   "outputs": [],
   "source": [
    "LENGTH_SEQ = 365\n",
    "LENGTH_SEQ = 53"
   ]
  },
  {
   "cell_type": "code",
   "execution_count": 6,
   "metadata": {},
   "outputs": [],
   "source": [
    "txn_n['date_idx'] = txn_n['date_idx'] // 7 + 1 # WEEKLY\n",
    "txn_n = txn_n.groupby(['id', 'old_cc_no', 'date_idx']).sum()"
   ]
  },
  {
   "cell_type": "code",
   "execution_count": 7,
   "metadata": {},
   "outputs": [],
   "source": [
    "scaled_txn_n = txn_n"
   ]
  },
  {
   "cell_type": "code",
   "execution_count": 8,
   "metadata": {},
   "outputs": [
    {
     "data": {
      "text/html": [
       "<div>\n",
       "<style scoped>\n",
       "    .dataframe tbody tr th:only-of-type {\n",
       "        vertical-align: middle;\n",
       "    }\n",
       "\n",
       "    .dataframe tbody tr th {\n",
       "        vertical-align: top;\n",
       "    }\n",
       "\n",
       "    .dataframe thead th {\n",
       "        text-align: right;\n",
       "    }\n",
       "</style>\n",
       "<table border=\"1\" class=\"dataframe\">\n",
       "  <thead>\n",
       "    <tr style=\"text-align: right;\">\n",
       "      <th></th>\n",
       "      <th></th>\n",
       "      <th></th>\n",
       "      <th>n4</th>\n",
       "      <th>n5</th>\n",
       "      <th>n6</th>\n",
       "      <th>n7</th>\n",
       "      <th>count</th>\n",
       "    </tr>\n",
       "    <tr>\n",
       "      <th>id</th>\n",
       "      <th>old_cc_no</th>\n",
       "      <th>date_idx</th>\n",
       "      <th></th>\n",
       "      <th></th>\n",
       "      <th></th>\n",
       "      <th></th>\n",
       "      <th></th>\n",
       "    </tr>\n",
       "  </thead>\n",
       "  <tbody>\n",
       "    <tr>\n",
       "      <th rowspan=\"5\" valign=\"top\">1</th>\n",
       "      <th rowspan=\"5\" valign=\"top\">7051</th>\n",
       "      <th>1</th>\n",
       "      <td>89000</td>\n",
       "      <td>5181</td>\n",
       "      <td>25825</td>\n",
       "      <td>11475</td>\n",
       "      <td>51</td>\n",
       "    </tr>\n",
       "    <tr>\n",
       "      <th>2</th>\n",
       "      <td>25000</td>\n",
       "      <td>4286</td>\n",
       "      <td>20996</td>\n",
       "      <td>9450</td>\n",
       "      <td>42</td>\n",
       "    </tr>\n",
       "    <tr>\n",
       "      <th>3</th>\n",
       "      <td>53500</td>\n",
       "      <td>4155</td>\n",
       "      <td>20589</td>\n",
       "      <td>9225</td>\n",
       "      <td>41</td>\n",
       "    </tr>\n",
       "    <tr>\n",
       "      <th>4</th>\n",
       "      <td>28300</td>\n",
       "      <td>2562</td>\n",
       "      <td>12798</td>\n",
       "      <td>5625</td>\n",
       "      <td>25</td>\n",
       "    </tr>\n",
       "    <tr>\n",
       "      <th>5</th>\n",
       "      <td>18000</td>\n",
       "      <td>3284</td>\n",
       "      <td>16822</td>\n",
       "      <td>7200</td>\n",
       "      <td>32</td>\n",
       "    </tr>\n",
       "  </tbody>\n",
       "</table>\n",
       "</div>"
      ],
      "text/plain": [
       "                          n4    n5     n6     n7  count\n",
       "id old_cc_no date_idx                                  \n",
       "1  7051      1         89000  5181  25825  11475     51\n",
       "             2         25000  4286  20996   9450     42\n",
       "             3         53500  4155  20589   9225     41\n",
       "             4         28300  2562  12798   5625     25\n",
       "             5         18000  3284  16822   7200     32"
      ]
     },
     "execution_count": 8,
     "metadata": {},
     "output_type": "execute_result"
    }
   ],
   "source": [
    "scaled_txn_n.head()"
   ]
  },
  {
   "cell_type": "code",
   "execution_count": 9,
   "metadata": {},
   "outputs": [],
   "source": [
    "txn_scaler = StandardScaler()\n",
    "scaled_txn_n[['n4', 'n5', 'n6', 'n7', 'count']] = txn_scaler.fit_transform(txn_n)"
   ]
  },
  {
   "cell_type": "code",
   "execution_count": 10,
   "metadata": {},
   "outputs": [],
   "source": [
    "scaled_txn_n = scaled_txn_n.reset_index().set_index('old_cc_no')"
   ]
  },
  {
   "cell_type": "code",
   "execution_count": 11,
   "metadata": {},
   "outputs": [
    {
     "data": {
      "text/html": [
       "<div>\n",
       "<style scoped>\n",
       "    .dataframe tbody tr th:only-of-type {\n",
       "        vertical-align: middle;\n",
       "    }\n",
       "\n",
       "    .dataframe tbody tr th {\n",
       "        vertical-align: top;\n",
       "    }\n",
       "\n",
       "    .dataframe thead th {\n",
       "        text-align: right;\n",
       "    }\n",
       "</style>\n",
       "<table border=\"1\" class=\"dataframe\">\n",
       "  <thead>\n",
       "    <tr style=\"text-align: right;\">\n",
       "      <th></th>\n",
       "      <th>old_cc_label</th>\n",
       "      <th>c5</th>\n",
       "      <th>c6</th>\n",
       "      <th>c7</th>\n",
       "    </tr>\n",
       "  </thead>\n",
       "  <tbody>\n",
       "    <tr>\n",
       "      <th>0</th>\n",
       "      <td>10</td>\n",
       "      <td>14</td>\n",
       "      <td>10</td>\n",
       "      <td>58</td>\n",
       "    </tr>\n",
       "    <tr>\n",
       "      <th>1</th>\n",
       "      <td>10</td>\n",
       "      <td>11</td>\n",
       "      <td>-10</td>\n",
       "      <td>53</td>\n",
       "    </tr>\n",
       "    <tr>\n",
       "      <th>2</th>\n",
       "      <td>10</td>\n",
       "      <td>12</td>\n",
       "      <td>-10</td>\n",
       "      <td>58</td>\n",
       "    </tr>\n",
       "    <tr>\n",
       "      <th>3</th>\n",
       "      <td>10</td>\n",
       "      <td>11</td>\n",
       "      <td>-10</td>\n",
       "      <td>80</td>\n",
       "    </tr>\n",
       "    <tr>\n",
       "      <th>4</th>\n",
       "      <td>10</td>\n",
       "      <td>12</td>\n",
       "      <td>11</td>\n",
       "      <td>58</td>\n",
       "    </tr>\n",
       "  </tbody>\n",
       "</table>\n",
       "</div>"
      ],
      "text/plain": [
       "   old_cc_label  c5  c6  c7\n",
       "0            10  14  10  58\n",
       "1            10  11 -10  53\n",
       "2            10  12 -10  58\n",
       "3            10  11 -10  80\n",
       "4            10  12  11  58"
      ]
     },
     "execution_count": 11,
     "metadata": {},
     "output_type": "execute_result"
    }
   ],
   "source": [
    "txn[['old_cc_label', 'c5', 'c6', 'c7']].head()"
   ]
  },
  {
   "cell_type": "code",
   "execution_count": 14,
   "metadata": {},
   "outputs": [
    {
     "data": {
      "text/html": [
       "<div>\n",
       "<style scoped>\n",
       "    .dataframe tbody tr th:only-of-type {\n",
       "        vertical-align: middle;\n",
       "    }\n",
       "\n",
       "    .dataframe tbody tr th {\n",
       "        vertical-align: top;\n",
       "    }\n",
       "\n",
       "    .dataframe thead th {\n",
       "        text-align: right;\n",
       "    }\n",
       "</style>\n",
       "<table border=\"1\" class=\"dataframe\">\n",
       "  <thead>\n",
       "    <tr style=\"text-align: right;\">\n",
       "      <th></th>\n",
       "      <th>id</th>\n",
       "      <th>old_cc_label</th>\n",
       "      <th>c5</th>\n",
       "      <th>c6</th>\n",
       "      <th>c7</th>\n",
       "      <th>date_idx</th>\n",
       "      <th>n4</th>\n",
       "      <th>n5</th>\n",
       "      <th>n6</th>\n",
       "      <th>n7</th>\n",
       "    </tr>\n",
       "    <tr>\n",
       "      <th>old_cc_no</th>\n",
       "      <th></th>\n",
       "      <th></th>\n",
       "      <th></th>\n",
       "      <th></th>\n",
       "      <th></th>\n",
       "      <th></th>\n",
       "      <th></th>\n",
       "      <th></th>\n",
       "      <th></th>\n",
       "      <th></th>\n",
       "    </tr>\n",
       "  </thead>\n",
       "  <tbody>\n",
       "    <tr>\n",
       "      <th>256451</th>\n",
       "      <td>11592</td>\n",
       "      <td>10</td>\n",
       "      <td>14</td>\n",
       "      <td>10</td>\n",
       "      <td>58</td>\n",
       "      <td>296</td>\n",
       "      <td>500</td>\n",
       "      <td>159</td>\n",
       "      <td>600</td>\n",
       "      <td>3801</td>\n",
       "    </tr>\n",
       "    <tr>\n",
       "      <th>256451</th>\n",
       "      <td>11592</td>\n",
       "      <td>10</td>\n",
       "      <td>11</td>\n",
       "      <td>-10</td>\n",
       "      <td>53</td>\n",
       "      <td>218</td>\n",
       "      <td>500</td>\n",
       "      <td>97</td>\n",
       "      <td>800</td>\n",
       "      <td>3801</td>\n",
       "    </tr>\n",
       "    <tr>\n",
       "      <th>256451</th>\n",
       "      <td>11592</td>\n",
       "      <td>10</td>\n",
       "      <td>12</td>\n",
       "      <td>-10</td>\n",
       "      <td>58</td>\n",
       "      <td>133</td>\n",
       "      <td>700</td>\n",
       "      <td>101</td>\n",
       "      <td>300</td>\n",
       "      <td>3801</td>\n",
       "    </tr>\n",
       "    <tr>\n",
       "      <th>256451</th>\n",
       "      <td>11592</td>\n",
       "      <td>10</td>\n",
       "      <td>11</td>\n",
       "      <td>-10</td>\n",
       "      <td>80</td>\n",
       "      <td>340</td>\n",
       "      <td>4000</td>\n",
       "      <td>95</td>\n",
       "      <td>0</td>\n",
       "      <td>3801</td>\n",
       "    </tr>\n",
       "    <tr>\n",
       "      <th>256451</th>\n",
       "      <td>11592</td>\n",
       "      <td>10</td>\n",
       "      <td>12</td>\n",
       "      <td>11</td>\n",
       "      <td>58</td>\n",
       "      <td>306</td>\n",
       "      <td>400</td>\n",
       "      <td>124</td>\n",
       "      <td>300</td>\n",
       "      <td>3801</td>\n",
       "    </tr>\n",
       "  </tbody>\n",
       "</table>\n",
       "</div>"
      ],
      "text/plain": [
       "              id  old_cc_label  c5  c6  c7  date_idx    n4   n5   n6    n7\n",
       "old_cc_no                                                                 \n",
       "256451     11592            10  14  10  58       296   500  159  600  3801\n",
       "256451     11592            10  11 -10  53       218   500   97  800  3801\n",
       "256451     11592            10  12 -10  58       133   700  101  300  3801\n",
       "256451     11592            10  11 -10  80       340  4000   95    0  3801\n",
       "256451     11592            10  12  11  58       306   400  124  300  3801"
      ]
     },
     "execution_count": 14,
     "metadata": {},
     "output_type": "execute_result"
    }
   ],
   "source": [
    "txn.head()"
   ]
  },
  {
   "cell_type": "code",
   "execution_count": 85,
   "metadata": {},
   "outputs": [],
   "source": [
    "def preprocess_credit_class(old_cc_no_ids):\n",
    "\n",
    "    txn_joined = _txn.drop_duplicates(subset='old_cc_no').set_index('old_cc_no')\n",
    "    txn_joined = txn_joined.loc[old_cc_no_ids]\n",
    "\n",
    "    txn_joined = txn_joined.drop(['n3', 'n4', 'n5', 'n6', 'n7', 't0'], axis=1)\n",
    "    txn_joined = txn_joined.reset_index()\n",
    "\n",
    "    _x = txn_joined[['old_cc_no','old_cc_label', 'c5', 'c6', 'c7']]\n",
    "\n",
    "\n",
    "    df = pd.DataFrame(columns=['old_cc_no', 'onehot'])\n",
    "\n",
    "    for (_, old_cc_no, old_cc_label, c5, c6, c7) in _x.itertuples():\n",
    "        old_cc_label = to_categorical(old_cc_label, 13)\n",
    "        c5 = to_categorical(c5, 100)\n",
    "        c6 = to_categorical(c6, 79)\n",
    "        c7 = to_categorical(c7, 95)\n",
    "        onehot = np.concatenate((old_cc_label, c5, c6, c7))\n",
    "        df = df.append({\n",
    "            'old_cc_no': old_cc_no,\n",
    "            'onehot': onehot\n",
    "        }, ignore_index=True)\n",
    "\n",
    "    return df"
   ]
  },
  {
   "cell_type": "code",
   "execution_count": 86,
   "metadata": {},
   "outputs": [],
   "source": [
    "padding_value = txn_scaler.transform([[0, 0, 0, 0, 0]])\n",
    "def create_seq_from_group(group):\n",
    "    seq = np.ones((LENGTH_SEQ, 5)) * padding_value\n",
    "    group = group.sort_values('date_idx')\n",
    "    for (_, _, date_idx, n4, n5, n6, n7, count) in group.itertuples():\n",
    "        seq[int(date_idx) - 1] = [n4, n5, n6, n7, count]\n",
    "    return seq\n",
    "\n",
    "def create_seq(txn):\n",
    "    grouped = txn.groupby(['old_cc_no'])\n",
    "    seqs = []\n",
    "    for name, group in tqdm(grouped):\n",
    "        seq = create_seq_from_group(group)\n",
    "        seqs.append(seq)\n",
    "    seqs = np.array(seqs)\n",
    "    return seqs\n",
    "\n",
    "def create_seq_dataframe(txn):\n",
    "    grouped = txn.groupby(['old_cc_no'])\n",
    "    output_df = pd.DataFrame(columns=['old_cc_no', 'seq'])\n",
    "    for old_cc_no, group in tqdm(grouped):\n",
    "        seq = create_seq_from_group(group)\n",
    "        output_df = output_df.append({\n",
    "            'old_cc_no': old_cc_no,\n",
    "            'seq': seq\n",
    "        }, ignore_index=True, )\n",
    "    return output_df"
   ]
  },
  {
   "cell_type": "code",
   "execution_count": 102,
   "metadata": {},
   "outputs": [],
   "source": [
    "batch_size = 32\n",
    "def create_data(ids):\n",
    "    \n",
    "    train_old_cc_nos = pd.merge(train_id_ccno, ids, on='id')['old_cc_no']\n",
    "\n",
    "    train_txn = scaled_txn_n.loc[train_old_cc_nos]\n",
    "    train_txn = train_txn.sort_values(['old_cc_no', 'date_idx'])\n",
    "\n",
    "    seqs = create_seq(train_txn)\n",
    "\n",
    "    onehot = preprocess_credit_class(train_old_cc_nos.to_list())\n",
    "    onehot = np.array([v for v in onehot['onehot'].to_numpy()])\n",
    "    labels = train_id_ccno.set_index('old_cc_no').loc[train_old_cc_nos].sort_values('old_cc_no')['label']\n",
    "\n",
    "    labels = np.array([to_categorical(label, 13) if not np.isnan(label) else to_categorical(0, 13) for label in labels])\n",
    "    return onehot, seqs, labels"
   ]
  },
  {
   "cell_type": "code",
   "execution_count": 3,
   "metadata": {},
   "outputs": [],
   "source": [
    "seqs = np.load('data_saved/seq-weekly.npy')\n",
    "labels = np.load('data_saved/label-weekly.npy')"
   ]
  },
  {
   "cell_type": "code",
   "execution_count": 103,
   "metadata": {
    "collapsed": true
   },
   "outputs": [
    {
     "data": {
      "text/plain": [
       "75       245\n",
       "419      144\n",
       "516      277\n",
       "731      378\n",
       "1227     426\n",
       "1277      43\n",
       "1306     116\n",
       "1751      53\n",
       "1877      77\n",
       "1945     304\n",
       "2373      59\n",
       "2517     384\n",
       "2546       2\n",
       "2550     129\n",
       "2571     190\n",
       "2760     239\n",
       "2791      56\n",
       "2805     187\n",
       "2846      41\n",
       "3015     164\n",
       "3032     463\n",
       "3244     126\n",
       "3378      16\n",
       "3399      39\n",
       "3540     261\n",
       "4078      12\n",
       "4572     473\n",
       "4701     309\n",
       "5131     435\n",
       "5140     252\n",
       "        ... \n",
       "94307    199\n",
       "94598     31\n",
       "94744    490\n",
       "94899    203\n",
       "94963    433\n",
       "95128    451\n",
       "95133     68\n",
       "95506    464\n",
       "95641    194\n",
       "95643    183\n",
       "96013    443\n",
       "96111     48\n",
       "96283    436\n",
       "96604      8\n",
       "96762    150\n",
       "96848    328\n",
       "96903     98\n",
       "97927     33\n",
       "98068    395\n",
       "98204     13\n",
       "98224    273\n",
       "98573    294\n",
       "98642    406\n",
       "98771    151\n",
       "98837     88\n",
       "98846    210\n",
       "99384     25\n",
       "99604    275\n",
       "99643    386\n",
       "99986     92\n",
       "Name: id, Length: 499, dtype: int64"
      ]
     },
     "execution_count": 103,
     "metadata": {},
     "output_type": "execute_result"
    }
   ],
   "source": [
    "\n",
    "ids = train_set[train_set['id'] < 500]['id']\n",
    "ids"
   ]
  },
  {
   "cell_type": "code",
   "execution_count": 104,
   "metadata": {},
   "outputs": [
    {
     "name": "stderr",
     "output_type": "stream",
     "text": [
      "\n",
      "  0%|          | 0/1133 [00:00<?, ?it/s]\u001b[A\n",
      "  7%|▋         | 76/1133 [00:00<00:01, 756.45it/s]\u001b[A\n",
      " 13%|█▎        | 152/1133 [00:00<00:01, 755.04it/s]\u001b[A\n",
      " 20%|██        | 228/1133 [00:00<00:01, 754.27it/s]\u001b[A\n",
      " 27%|██▋       | 304/1133 [00:00<00:01, 755.29it/s]\u001b[A\n",
      " 33%|███▎      | 379/1133 [00:00<00:01, 752.18it/s]\u001b[A\n",
      " 40%|████      | 455/1133 [00:00<00:00, 752.29it/s]\u001b[A\n",
      " 47%|████▋     | 531/1133 [00:00<00:00, 752.09it/s]\u001b[A\n",
      " 53%|█████▎    | 606/1133 [00:00<00:00, 749.35it/s]\u001b[A\n",
      " 60%|██████    | 682/1133 [00:00<00:00, 749.87it/s]\u001b[A\n",
      " 67%|██████▋   | 758/1133 [00:01<00:00, 750.02it/s]\u001b[A\n",
      " 74%|███████▎  | 833/1133 [00:01<00:00, 748.30it/s]\u001b[A\n",
      " 80%|████████  | 908/1133 [00:01<00:00, 748.39it/s]\u001b[A\n",
      " 87%|████████▋ | 983/1133 [00:01<00:00, 747.79it/s]\u001b[A\n",
      " 93%|█████████▎| 1058/1133 [00:01<00:00, 747.12it/s]\u001b[A\n",
      "100%|██████████| 1133/1133 [00:01<00:00, 743.21it/s]\u001b[A"
     ]
    }
   ],
   "source": [
    "\n",
    "onehot, seqs, labels = create_data(ids)\n",
    "# train_old_cc_nos = create_data(ids)"
   ]
  },
  {
   "cell_type": "code",
   "execution_count": 106,
   "metadata": {},
   "outputs": [
    {
     "data": {
      "text/plain": [
       "((1133, 287), (1133, 53, 5), (1133, 13))"
      ]
     },
     "execution_count": 106,
     "metadata": {},
     "output_type": "execute_result"
    }
   ],
   "source": [
    "onehot.shape, seqs.shape, labels.shape"
   ]
  },
  {
   "cell_type": "code",
   "execution_count": 96,
   "metadata": {},
   "outputs": [],
   "source": [
    "np.save('data_saved/seq-weekly.npy', seqs)\n",
    "np.save('data_saved/label-weekly.npy', labels)\n"
   ]
  },
  {
   "cell_type": "code",
   "execution_count": 4,
   "metadata": {},
   "outputs": [
    {
     "ename": "NameError",
     "evalue": "name 'LENGTH_SEQ' is not defined",
     "output_type": "error",
     "traceback": [
      "\u001b[0;31m---------------------------------------------------------------------------\u001b[0m",
      "\u001b[0;31mNameError\u001b[0m                                 Traceback (most recent call last)",
      "\u001b[0;32m<ipython-input-4-cfa9753ea8d7>\u001b[0m in \u001b[0;36m<module>\u001b[0;34m\u001b[0m\n\u001b[1;32m      1\u001b[0m \u001b[0mmodel\u001b[0m \u001b[0;34m=\u001b[0m \u001b[0mSequential\u001b[0m\u001b[0;34m(\u001b[0m\u001b[0;34m)\u001b[0m\u001b[0;34m\u001b[0m\u001b[0;34m\u001b[0m\u001b[0m\n\u001b[0;32m----> 2\u001b[0;31m \u001b[0mmodel\u001b[0m\u001b[0;34m.\u001b[0m\u001b[0madd\u001b[0m\u001b[0;34m(\u001b[0m\u001b[0mCuDNNLSTM\u001b[0m\u001b[0;34m(\u001b[0m\u001b[0;36m32\u001b[0m\u001b[0;34m,\u001b[0m \u001b[0mreturn_sequences\u001b[0m\u001b[0;34m=\u001b[0m\u001b[0;32mTrue\u001b[0m\u001b[0;34m,\u001b[0m \u001b[0minput_shape\u001b[0m\u001b[0;34m=\u001b[0m\u001b[0;34m(\u001b[0m\u001b[0mLENGTH_SEQ\u001b[0m\u001b[0;34m,\u001b[0m \u001b[0;36m5\u001b[0m\u001b[0;34m)\u001b[0m\u001b[0;34m)\u001b[0m\u001b[0;34m)\u001b[0m\u001b[0;34m\u001b[0m\u001b[0;34m\u001b[0m\u001b[0m\n\u001b[0m\u001b[1;32m      3\u001b[0m \u001b[0mmodel\u001b[0m\u001b[0;34m.\u001b[0m\u001b[0madd\u001b[0m\u001b[0;34m(\u001b[0m\u001b[0mCuDNNLSTM\u001b[0m\u001b[0;34m(\u001b[0m\u001b[0;36m32\u001b[0m\u001b[0;34m)\u001b[0m\u001b[0;34m)\u001b[0m\u001b[0;34m\u001b[0m\u001b[0;34m\u001b[0m\u001b[0m\n\u001b[1;32m      4\u001b[0m \u001b[0mmodel\u001b[0m\u001b[0;34m.\u001b[0m\u001b[0madd\u001b[0m\u001b[0;34m(\u001b[0m\u001b[0mDense\u001b[0m\u001b[0;34m(\u001b[0m\u001b[0;36m13\u001b[0m\u001b[0;34m,\u001b[0m \u001b[0mactivation\u001b[0m\u001b[0;34m=\u001b[0m\u001b[0;34m'softmax'\u001b[0m\u001b[0;34m)\u001b[0m\u001b[0;34m)\u001b[0m\u001b[0;34m\u001b[0m\u001b[0;34m\u001b[0m\u001b[0m\n\u001b[1;32m      5\u001b[0m \u001b[0mmodel\u001b[0m\u001b[0;34m.\u001b[0m\u001b[0msummary\u001b[0m\u001b[0;34m(\u001b[0m\u001b[0;34m)\u001b[0m\u001b[0;34m\u001b[0m\u001b[0;34m\u001b[0m\u001b[0m\n",
      "\u001b[0;31mNameError\u001b[0m: name 'LENGTH_SEQ' is not defined"
     ]
    }
   ],
   "source": [
    "model = Sequential()\n",
    "model.add(CuDNNLSTM(32, return_sequences=True, input_shape=(LENGTH_SEQ, 5)))\n",
    "model.add(CuDNNLSTM(32, return_sequences=True))\n",
    "model.add(CuDNNLSTM(32, return_sequences=True))\n",
    "model.add(CuDNNLSTM(32))\n",
    "model.add(Dense(13, activation='softmax'))\n",
    "model.summary()\n",
    "# model = multi_gpu_model(model, gpus=2)\n",
    "model.compile(optimizer=Adam(),\n",
    "              loss='categorical_crossentropy',\n",
    "             metrics=['acc'])\n"
   ]
  },
  {
   "cell_type": "code",
   "execution_count": 15,
   "metadata": {},
   "outputs": [
    {
     "name": "stderr",
     "output_type": "stream",
     "text": [
      "W1130 18:19:07.400505 140353152771904 module_wrapper.py:137] From /home/porlolicon/.local/lib/python3.6/site-packages/keras/backend/tensorflow_backend.py:422: The name tf.global_variables is deprecated. Please use tf.compat.v1.global_variables instead.\n",
      "\n"
     ]
    },
    {
     "name": "stdout",
     "output_type": "stream",
     "text": [
      "Train on 105357 samples, validate on 45154 samples\n",
      "Epoch 1/100\n",
      "105357/105357 [==============================] - 36s 342us/step - loss: 1.8213 - acc: 0.3050 - val_loss: 1.7404 - val_acc: 0.3405\n",
      "Epoch 2/100\n",
      "105357/105357 [==============================] - 35s 332us/step - loss: 1.7637 - acc: 0.3394 - val_loss: 1.6922 - val_acc: 0.3448\n",
      "Epoch 3/100\n",
      "105357/105357 [==============================] - 35s 334us/step - loss: 1.7367 - acc: 0.3481 - val_loss: 1.6766 - val_acc: 0.3575\n",
      "Epoch 4/100\n",
      "105357/105357 [==============================] - 35s 334us/step - loss: 1.7216 - acc: 0.3553 - val_loss: 1.6512 - val_acc: 0.3663\n",
      "Epoch 5/100\n",
      "105357/105357 [==============================] - 35s 333us/step - loss: 1.7157 - acc: 0.3573 - val_loss: 1.6524 - val_acc: 0.3661\n",
      "Epoch 6/100\n",
      "105357/105357 [==============================] - 35s 332us/step - loss: 1.7111 - acc: 0.3594 - val_loss: 1.6463 - val_acc: 0.3716\n",
      "Epoch 7/100\n",
      "105357/105357 [==============================] - 35s 333us/step - loss: 1.7075 - acc: 0.3624 - val_loss: 1.6440 - val_acc: 0.3719\n",
      "Epoch 8/100\n",
      "105357/105357 [==============================] - 35s 333us/step - loss: 1.7040 - acc: 0.3629 - val_loss: 1.6485 - val_acc: 0.3723\n",
      "Epoch 9/100\n",
      "105357/105357 [==============================] - 35s 333us/step - loss: 1.7009 - acc: 0.3633 - val_loss: 1.6446 - val_acc: 0.3673\n",
      "Epoch 10/100\n",
      "105357/105357 [==============================] - 35s 334us/step - loss: 1.6975 - acc: 0.3671 - val_loss: 1.6333 - val_acc: 0.3769\n",
      "Epoch 11/100\n",
      "105357/105357 [==============================] - 35s 332us/step - loss: 1.6946 - acc: 0.3679 - val_loss: 1.6270 - val_acc: 0.3777\n",
      "Epoch 12/100\n",
      "105357/105357 [==============================] - 35s 333us/step - loss: 1.6917 - acc: 0.3692 - val_loss: 1.6298 - val_acc: 0.3808\n",
      "Epoch 13/100\n",
      "105357/105357 [==============================] - 35s 332us/step - loss: 1.6887 - acc: 0.3714 - val_loss: 1.6262 - val_acc: 0.3830\n",
      "Epoch 14/100\n",
      "105357/105357 [==============================] - 35s 332us/step - loss: 1.6859 - acc: 0.3727 - val_loss: 1.6245 - val_acc: 0.3829\n",
      "Epoch 15/100\n",
      "105357/105357 [==============================] - 35s 333us/step - loss: 1.6843 - acc: 0.3724 - val_loss: 1.6231 - val_acc: 0.3815\n",
      "Epoch 16/100\n",
      "105357/105357 [==============================] - 35s 330us/step - loss: 1.6826 - acc: 0.3735 - val_loss: 1.6164 - val_acc: 0.3844\n",
      "Epoch 17/100\n",
      "105357/105357 [==============================] - 35s 330us/step - loss: 1.6804 - acc: 0.3747 - val_loss: 1.6218 - val_acc: 0.3820\n",
      "Epoch 18/100\n",
      "105357/105357 [==============================] - 35s 333us/step - loss: 1.6787 - acc: 0.3755 - val_loss: 1.6282 - val_acc: 0.3830\n",
      "Epoch 19/100\n",
      "105357/105357 [==============================] - 35s 333us/step - loss: 1.6773 - acc: 0.3752 - val_loss: 1.6195 - val_acc: 0.3848\n",
      "Epoch 20/100\n",
      "105357/105357 [==============================] - 35s 333us/step - loss: 1.6758 - acc: 0.3771 - val_loss: 1.6259 - val_acc: 0.3765\n",
      "Epoch 21/100\n",
      "105357/105357 [==============================] - 35s 333us/step - loss: 1.6735 - acc: 0.3776 - val_loss: 1.6229 - val_acc: 0.3844\n",
      "Epoch 22/100\n",
      "105357/105357 [==============================] - 35s 332us/step - loss: 1.6717 - acc: 0.3783 - val_loss: 1.6219 - val_acc: 0.3837\n",
      "Epoch 23/100\n",
      "105357/105357 [==============================] - 35s 334us/step - loss: 1.6704 - acc: 0.3783 - val_loss: 1.6220 - val_acc: 0.3888\n",
      "Epoch 24/100\n",
      "105357/105357 [==============================] - 35s 334us/step - loss: 1.6684 - acc: 0.3803 - val_loss: 1.6194 - val_acc: 0.3871\n",
      "Epoch 25/100\n",
      "105357/105357 [==============================] - 35s 334us/step - loss: 1.6678 - acc: 0.3799 - val_loss: 1.6179 - val_acc: 0.3864\n",
      "Epoch 26/100\n",
      "105357/105357 [==============================] - 35s 333us/step - loss: 1.6648 - acc: 0.3805 - val_loss: 1.6310 - val_acc: 0.3847\n",
      "Epoch 27/100\n",
      "105357/105357 [==============================] - 35s 332us/step - loss: 1.6645 - acc: 0.3816 - val_loss: 1.6193 - val_acc: 0.3865\n",
      "Epoch 28/100\n",
      "105357/105357 [==============================] - 35s 333us/step - loss: 1.6620 - acc: 0.3822 - val_loss: 1.6187 - val_acc: 0.3868\n",
      "Epoch 29/100\n",
      "105357/105357 [==============================] - 35s 330us/step - loss: 1.6601 - acc: 0.3828 - val_loss: 1.6228 - val_acc: 0.3858\n",
      "Epoch 30/100\n",
      "105357/105357 [==============================] - 35s 331us/step - loss: 1.6583 - acc: 0.3835 - val_loss: 1.6219 - val_acc: 0.3871\n",
      "Epoch 31/100\n",
      "105357/105357 [==============================] - 35s 332us/step - loss: 1.6563 - acc: 0.3842 - val_loss: 1.6247 - val_acc: 0.3847\n",
      "Epoch 32/100\n",
      " 50336/105357 [=============>................] - ETA: 15s - loss: 1.6557 - acc: 0.3835"
     ]
    },
    {
     "ename": "KeyboardInterrupt",
     "evalue": "",
     "output_type": "error",
     "traceback": [
      "\u001b[0;31m---------------------------------------------------------------------------\u001b[0m",
      "\u001b[0;31mKeyboardInterrupt\u001b[0m                         Traceback (most recent call last)",
      "\u001b[0;32m<ipython-input-15-97b8f7b29422>\u001b[0m in \u001b[0;36m<module>\u001b[0;34m\u001b[0m\n\u001b[1;32m      9\u001b[0m           \u001b[0mclass_weight\u001b[0m\u001b[0;34m=\u001b[0m\u001b[0mclass_weights\u001b[0m\u001b[0;34m,\u001b[0m\u001b[0;34m\u001b[0m\u001b[0;34m\u001b[0m\u001b[0m\n\u001b[1;32m     10\u001b[0m           \u001b[0mvalidation_split\u001b[0m\u001b[0;34m=\u001b[0m\u001b[0;36m0.3\u001b[0m\u001b[0;34m,\u001b[0m\u001b[0;34m\u001b[0m\u001b[0;34m\u001b[0m\u001b[0m\n\u001b[0;32m---> 11\u001b[0;31m           epochs=100)\n\u001b[0m",
      "\u001b[0;32m~/.local/lib/python3.6/site-packages/keras/engine/training.py\u001b[0m in \u001b[0;36mfit\u001b[0;34m(self, x, y, batch_size, epochs, verbose, callbacks, validation_split, validation_data, shuffle, class_weight, sample_weight, initial_epoch, steps_per_epoch, validation_steps, validation_freq, max_queue_size, workers, use_multiprocessing, **kwargs)\u001b[0m\n\u001b[1;32m   1237\u001b[0m                                         \u001b[0msteps_per_epoch\u001b[0m\u001b[0;34m=\u001b[0m\u001b[0msteps_per_epoch\u001b[0m\u001b[0;34m,\u001b[0m\u001b[0;34m\u001b[0m\u001b[0;34m\u001b[0m\u001b[0m\n\u001b[1;32m   1238\u001b[0m                                         \u001b[0mvalidation_steps\u001b[0m\u001b[0;34m=\u001b[0m\u001b[0mvalidation_steps\u001b[0m\u001b[0;34m,\u001b[0m\u001b[0;34m\u001b[0m\u001b[0;34m\u001b[0m\u001b[0m\n\u001b[0;32m-> 1239\u001b[0;31m                                         validation_freq=validation_freq)\n\u001b[0m\u001b[1;32m   1240\u001b[0m \u001b[0;34m\u001b[0m\u001b[0m\n\u001b[1;32m   1241\u001b[0m     def evaluate(self,\n",
      "\u001b[0;32m~/.local/lib/python3.6/site-packages/keras/engine/training_arrays.py\u001b[0m in \u001b[0;36mfit_loop\u001b[0;34m(model, fit_function, fit_inputs, out_labels, batch_size, epochs, verbose, callbacks, val_function, val_inputs, shuffle, initial_epoch, steps_per_epoch, validation_steps, validation_freq)\u001b[0m\n\u001b[1;32m    194\u001b[0m                     \u001b[0mins_batch\u001b[0m\u001b[0;34m[\u001b[0m\u001b[0mi\u001b[0m\u001b[0;34m]\u001b[0m \u001b[0;34m=\u001b[0m \u001b[0mins_batch\u001b[0m\u001b[0;34m[\u001b[0m\u001b[0mi\u001b[0m\u001b[0;34m]\u001b[0m\u001b[0;34m.\u001b[0m\u001b[0mtoarray\u001b[0m\u001b[0;34m(\u001b[0m\u001b[0;34m)\u001b[0m\u001b[0;34m\u001b[0m\u001b[0;34m\u001b[0m\u001b[0m\n\u001b[1;32m    195\u001b[0m \u001b[0;34m\u001b[0m\u001b[0m\n\u001b[0;32m--> 196\u001b[0;31m                 \u001b[0mouts\u001b[0m \u001b[0;34m=\u001b[0m \u001b[0mfit_function\u001b[0m\u001b[0;34m(\u001b[0m\u001b[0mins_batch\u001b[0m\u001b[0;34m)\u001b[0m\u001b[0;34m\u001b[0m\u001b[0;34m\u001b[0m\u001b[0m\n\u001b[0m\u001b[1;32m    197\u001b[0m                 \u001b[0mouts\u001b[0m \u001b[0;34m=\u001b[0m \u001b[0mto_list\u001b[0m\u001b[0;34m(\u001b[0m\u001b[0mouts\u001b[0m\u001b[0;34m)\u001b[0m\u001b[0;34m\u001b[0m\u001b[0;34m\u001b[0m\u001b[0m\n\u001b[1;32m    198\u001b[0m                 \u001b[0;32mfor\u001b[0m \u001b[0ml\u001b[0m\u001b[0;34m,\u001b[0m \u001b[0mo\u001b[0m \u001b[0;32min\u001b[0m \u001b[0mzip\u001b[0m\u001b[0;34m(\u001b[0m\u001b[0mout_labels\u001b[0m\u001b[0;34m,\u001b[0m \u001b[0mouts\u001b[0m\u001b[0;34m)\u001b[0m\u001b[0;34m:\u001b[0m\u001b[0;34m\u001b[0m\u001b[0;34m\u001b[0m\u001b[0m\n",
      "\u001b[0;32m/usr/local/lib/python3.6/dist-packages/tensorflow_core/python/keras/backend.py\u001b[0m in \u001b[0;36m__call__\u001b[0;34m(self, inputs)\u001b[0m\n\u001b[1;32m   3474\u001b[0m \u001b[0;34m\u001b[0m\u001b[0m\n\u001b[1;32m   3475\u001b[0m     fetched = self._callable_fn(*array_vals,\n\u001b[0;32m-> 3476\u001b[0;31m                                 run_metadata=self.run_metadata)\n\u001b[0m\u001b[1;32m   3477\u001b[0m     \u001b[0mself\u001b[0m\u001b[0;34m.\u001b[0m\u001b[0m_call_fetch_callbacks\u001b[0m\u001b[0;34m(\u001b[0m\u001b[0mfetched\u001b[0m\u001b[0;34m[\u001b[0m\u001b[0;34m-\u001b[0m\u001b[0mlen\u001b[0m\u001b[0;34m(\u001b[0m\u001b[0mself\u001b[0m\u001b[0;34m.\u001b[0m\u001b[0m_fetches\u001b[0m\u001b[0;34m)\u001b[0m\u001b[0;34m:\u001b[0m\u001b[0;34m]\u001b[0m\u001b[0;34m)\u001b[0m\u001b[0;34m\u001b[0m\u001b[0;34m\u001b[0m\u001b[0m\n\u001b[1;32m   3478\u001b[0m     output_structure = nest.pack_sequence_as(\n",
      "\u001b[0;32m/usr/local/lib/python3.6/dist-packages/tensorflow_core/python/client/session.py\u001b[0m in \u001b[0;36m__call__\u001b[0;34m(self, *args, **kwargs)\u001b[0m\n\u001b[1;32m   1470\u001b[0m         ret = tf_session.TF_SessionRunCallable(self._session._session,\n\u001b[1;32m   1471\u001b[0m                                                \u001b[0mself\u001b[0m\u001b[0;34m.\u001b[0m\u001b[0m_handle\u001b[0m\u001b[0;34m,\u001b[0m \u001b[0margs\u001b[0m\u001b[0;34m,\u001b[0m\u001b[0;34m\u001b[0m\u001b[0;34m\u001b[0m\u001b[0m\n\u001b[0;32m-> 1472\u001b[0;31m                                                run_metadata_ptr)\n\u001b[0m\u001b[1;32m   1473\u001b[0m         \u001b[0;32mif\u001b[0m \u001b[0mrun_metadata\u001b[0m\u001b[0;34m:\u001b[0m\u001b[0;34m\u001b[0m\u001b[0;34m\u001b[0m\u001b[0m\n\u001b[1;32m   1474\u001b[0m           \u001b[0mproto_data\u001b[0m \u001b[0;34m=\u001b[0m \u001b[0mtf_session\u001b[0m\u001b[0;34m.\u001b[0m\u001b[0mTF_GetBuffer\u001b[0m\u001b[0;34m(\u001b[0m\u001b[0mrun_metadata_ptr\u001b[0m\u001b[0;34m)\u001b[0m\u001b[0;34m\u001b[0m\u001b[0;34m\u001b[0m\u001b[0m\n",
      "\u001b[0;31mKeyboardInterrupt\u001b[0m: "
     ]
    }
   ],
   "source": [
    "class_weights = [1.09518711e+01, 3.07683547e+00, 3.58078232e-01, 2.61727260e-01,\n",
    "       4.38833908e-01, 1.35073077e+03, 6.72563039e+00, 9.89546351e+00,\n",
    "       3.99230769e+00, 1.03902367e+01, 4.49295078e-01, 4.26546559e+01,\n",
    "       1.18329459e+00]\n",
    "\n",
    "model.fit(seqs,\n",
    "          labels,\n",
    "          shuffle=True,\n",
    "          class_weight=class_weights,\n",
    "          validation_split=0.3,\n",
    "          epochs=100)"
   ]
  }
 ],
 "metadata": {
  "kernelspec": {
   "display_name": "Python 3",
   "language": "python",
   "name": "python3"
  },
  "language_info": {
   "codemirror_mode": {
    "name": "ipython",
    "version": 3
   },
   "file_extension": ".py",
   "mimetype": "text/x-python",
   "name": "python",
   "nbconvert_exporter": "python",
   "pygments_lexer": "ipython3",
   "version": "3.6.8"
  }
 },
 "nbformat": 4,
 "nbformat_minor": 2
}
